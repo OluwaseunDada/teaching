{
 "cells": [
  {
   "cell_type": "markdown",
   "metadata": {},
   "source": [
    "# Strings - python"
   ]
  },
  {
   "cell_type": "raw",
   "metadata": {},
   "source": [
    "12th October, 2019\n",
    "\n",
    "https://www.w3schools.com/python/python_strings.asp"
   ]
  },
  {
   "cell_type": "code",
   "execution_count": 1,
   "metadata": {},
   "outputs": [
    {
     "name": "stdout",
     "output_type": "stream",
     "text": [
      "Hello\n",
      "Hello\n"
     ]
    }
   ],
   "source": [
    "print(\"Hello\")\n",
    "print('Hello')"
   ]
  },
  {
   "cell_type": "code",
   "execution_count": 2,
   "metadata": {},
   "outputs": [
    {
     "name": "stdout",
     "output_type": "stream",
     "text": [
      "Hello\n",
      "Helsinki\n",
      "er22334\n",
      "I, alone\n"
     ]
    }
   ],
   "source": [
    "\n",
    "# assign string value to variable\n",
    "a = \"Hello\"\n",
    "print(a)\n",
    "a = \"Helsinki\"\n",
    "print(a)\n",
    "\n",
    "a=\"er22334\"\n",
    "print(a)\n",
    "\n",
    "a = \"Me and you in the ... \"\n",
    "a = \"I, alone\"\n",
    "print(a)"
   ]
  },
  {
   "cell_type": "code",
   "execution_count": 3,
   "metadata": {},
   "outputs": [
    {
     "name": "stdout",
     "output_type": "stream",
     "text": [
      "Hello\n",
      "Helsinki\n",
      "er22334\n",
      "Me and you in the ... \n",
      "I, alone\n"
     ]
    }
   ],
   "source": [
    "# Assign String to a Variable\n",
    "a = \"Hello\"\n",
    "print(a)\n",
    "a = \"Helsinki\"\n",
    "print(a)\n",
    "\n",
    "a=\"er22334\"\n",
    "print(a)\n",
    "\n",
    "a = \"Me and you in the ... \"\n",
    "print(a)\n",
    "a = \"I, alone\"\n",
    "print(a)"
   ]
  },
  {
   "cell_type": "code",
   "execution_count": 4,
   "metadata": {},
   "outputs": [],
   "source": [
    "# Multiline Strings\n",
    "\n",
    "a = \"\"\"Lorem ipsum dolor sit amet,\n",
    "consectetur adipiscing elit,\n",
    "sed do eiusmod tempor incididunt\n",
    "ut labore et dolore magna aliqua.\"\"\"\n"
   ]
  },
  {
   "cell_type": "code",
   "execution_count": 5,
   "metadata": {},
   "outputs": [
    {
     "data": {
      "text/plain": [
       "'Lorem ipsum dolor sit amet,\\nconsectetur adipiscing elit,\\nsed do eiusmod tempor incididunt\\nut labore et dolore magna aliqua.'"
      ]
     },
     "execution_count": 5,
     "metadata": {},
     "output_type": "execute_result"
    }
   ],
   "source": [
    "a"
   ]
  },
  {
   "cell_type": "code",
   "execution_count": 8,
   "metadata": {},
   "outputs": [
    {
     "name": "stdout",
     "output_type": "stream",
     "text": [
      "e\n"
     ]
    }
   ],
   "source": [
    "#Strings are Arrays\n",
    "\n",
    "a = \"Hello, World!\"\n",
    "print(a[1])\n"
   ]
  },
  {
   "cell_type": "code",
   "execution_count": 12,
   "metadata": {},
   "outputs": [
    {
     "name": "stdout",
     "output_type": "stream",
     "text": [
      "The length of the string is:  13\n",
      "index 0:  H\n",
      "index 1:  e\n",
      "index 2:  l\n",
      "index 3:  l\n",
      "index 4:  o\n",
      "index 5:  ,\n",
      "index 6:   \n",
      "index 7:  W\n",
      "index 8:  o\n",
      "index 9:  r\n",
      "index 10:  l\n",
      "index 11:  d\n",
      "index 12:  !\n"
     ]
    }
   ],
   "source": [
    "a = \"Hello, World!\"\n",
    "\n",
    "## remember, we always start from 0\n",
    "print(\"The length of the string is: \", len(a))\n",
    "print(\"index 0: \", a[0])\n",
    "print(\"index 1: \", a[1])\n",
    "print(\"index 2: \", a[2])\n",
    "print(\"index 3: \", a[3])\n",
    "print(\"index 4: \", a[4])\n",
    "print(\"index 5: \", a[5])\n",
    "print(\"index 6: \", a[6])\n",
    "print(\"index 7: \", a[7])\n",
    "print(\"index 8: \", a[8])\n",
    "print(\"index 9: \", a[9])\n",
    "print(\"index 10: \", a[10])\n",
    "print(\"index 11: \", a[11])\n",
    "print(\"index 12: \", a[12])"
   ]
  },
  {
   "cell_type": "code",
   "execution_count": 13,
   "metadata": {},
   "outputs": [
    {
     "name": "stdout",
     "output_type": "stream",
     "text": [
      "The length of the string is:  14\n",
      "index 0:  H\n",
      "index 1:  e\n",
      "index 2:  l\n",
      "index 3:  l\n",
      "index 4:  o\n",
      "index 5:  ,\n",
      "index 6:   \n",
      "index 7:   \n",
      "index 8:  W\n",
      "index 9:  o\n",
      "index 10:  r\n",
      "index 11:  l\n",
      "index 12:  d\n"
     ]
    }
   ],
   "source": [
    "a = \"Hello,  World!\"\n",
    "\n",
    "## remember, we always start from 0\n",
    "print(\"The length of the string is: \", len(a))\n",
    "print(\"index 0: \", a[0])\n",
    "print(\"index 1: \", a[1])\n",
    "print(\"index 2: \", a[2])\n",
    "print(\"index 3: \", a[3])\n",
    "print(\"index 4: \", a[4])\n",
    "print(\"index 5: \", a[5])\n",
    "print(\"index 6: \", a[6])\n",
    "print(\"index 7: \", a[7])\n",
    "print(\"index 8: \", a[8])\n",
    "print(\"index 9: \", a[9])\n",
    "print(\"index 10: \", a[10])\n",
    "print(\"index 11: \", a[11])\n",
    "print(\"index 12: \", a[12])"
   ]
  },
  {
   "cell_type": "code",
   "execution_count": 14,
   "metadata": {},
   "outputs": [
    {
     "name": "stdout",
     "output_type": "stream",
     "text": [
      "The length of the string is:  15\n",
      "index 0:  H\n",
      "index 1:  e\n",
      "index 2:  l\n",
      "index 3:  l\n",
      "index 4:  o\n",
      "index 5:  ,\n",
      "index 6:   \n",
      "index 7:   \n",
      "index 8:  W\n",
      "index 9:  o\n",
      "index 10:  r\n",
      "index 11:  l\n",
      "index 12:  d\n"
     ]
    }
   ],
   "source": [
    "a = \"Hello,  World! \"\n",
    "\n",
    "## remember, we always start from 0\n",
    "print(\"The length of the string is: \", len(a))\n",
    "print(\"index 0: \", a[0])\n",
    "print(\"index 1: \", a[1])\n",
    "print(\"index 2: \", a[2])\n",
    "print(\"index 3: \", a[3])\n",
    "print(\"index 4: \", a[4])\n",
    "print(\"index 5: \", a[5])\n",
    "print(\"index 6: \", a[6])\n",
    "print(\"index 7: \", a[7])\n",
    "print(\"index 8: \", a[8])\n",
    "print(\"index 9: \", a[9])\n",
    "print(\"index 10: \", a[10])\n",
    "print(\"index 11: \", a[11])\n",
    "print(\"index 12: \", a[12])"
   ]
  },
  {
   "cell_type": "code",
   "execution_count": 17,
   "metadata": {},
   "outputs": [
    {
     "name": "stdout",
     "output_type": "stream",
     "text": [
      "The length of the string is:  16\n",
      "index 0:   \n",
      "index 1:  H\n",
      "index 2:  e\n",
      "index 3:  l\n",
      "index 4:  l\n",
      "index 5:  o\n",
      "index 6:  ,\n",
      "index 7:   \n",
      "index 8:   \n",
      "index 9:  W\n",
      "index 10:  o\n",
      "index 11:  r\n",
      "index 12:  l\n"
     ]
    }
   ],
   "source": [
    "greeting = \" Hello,  World! \"\n",
    "\n",
    "## remember, we always start from 0\n",
    "print(\"The length of the string is: \", len(a))\n",
    "print(\"index 0: \", a[0])\n",
    "print(\"index 1: \", a[1])\n",
    "print(\"index 2: \", a[2])\n",
    "print(\"index 3: \", a[3])\n",
    "print(\"index 4: \", a[4])\n",
    "print(\"index 5: \", a[5])\n",
    "print(\"index 6: \", a[6])\n",
    "print(\"index 7: \", a[7])\n",
    "print(\"index 8: \", a[8])\n",
    "print(\"index 9: \", a[9])\n",
    "print(\"index 10: \", a[10])\n",
    "print(\"index 11: \", a[11])\n",
    "print(\"index 12: \", a[12])"
   ]
  },
  {
   "cell_type": "code",
   "execution_count": 19,
   "metadata": {},
   "outputs": [],
   "source": [
    "a = \"Hello, World!\""
   ]
  },
  {
   "cell_type": "code",
   "execution_count": 20,
   "metadata": {},
   "outputs": [
    {
     "data": {
      "text/plain": [
       "'Hello, World!'"
      ]
     },
     "execution_count": 20,
     "metadata": {},
     "output_type": "execute_result"
    }
   ],
   "source": [
    "a"
   ]
  },
  {
   "cell_type": "code",
   "execution_count": 22,
   "metadata": {},
   "outputs": [
    {
     "data": {
      "text/plain": [
       "'oe'"
      ]
     },
     "execution_count": 22,
     "metadata": {},
     "output_type": "execute_result"
    }
   ],
   "source": [
    "a[4] + a[1]"
   ]
  },
  {
   "cell_type": "code",
   "execution_count": 23,
   "metadata": {},
   "outputs": [
    {
     "data": {
      "text/plain": [
       "13"
      ]
     },
     "execution_count": 23,
     "metadata": {},
     "output_type": "execute_result"
    }
   ],
   "source": [
    "#String Length\n",
    "#syntax: len(your_string)\n",
    "len(a)"
   ]
  },
  {
   "cell_type": "code",
   "execution_count": 24,
   "metadata": {},
   "outputs": [
    {
     "data": {
      "text/plain": [
       "13"
      ]
     },
     "execution_count": 24,
     "metadata": {},
     "output_type": "execute_result"
    }
   ],
   "source": [
    "len(\"Hello, World!\")"
   ]
  },
  {
   "cell_type": "code",
   "execution_count": 26,
   "metadata": {},
   "outputs": [],
   "source": [
    "str = \"\"\"Lorem ipsum dolor sit amet,\n",
    "consectetur adipiscing elit,\n",
    "sed do eiusmod tempor incididunt\n",
    "ut labore et dolore magna aliqua.\"\"\""
   ]
  },
  {
   "cell_type": "code",
   "execution_count": 27,
   "metadata": {},
   "outputs": [
    {
     "data": {
      "text/plain": [
       "123"
      ]
     },
     "execution_count": 27,
     "metadata": {},
     "output_type": "execute_result"
    }
   ],
   "source": [
    "len(str)"
   ]
  },
  {
   "cell_type": "code",
   "execution_count": 28,
   "metadata": {},
   "outputs": [
    {
     "data": {
      "text/plain": [
       "123"
      ]
     },
     "execution_count": 28,
     "metadata": {},
     "output_type": "execute_result"
    }
   ],
   "source": [
    "len(\"\"\"Lorem ipsum dolor sit amet,\n",
    "consectetur adipiscing elit,\n",
    "sed do eiusmod tempor incididunt\n",
    "ut labore et dolore magna aliqua.\"\"\")"
   ]
  },
  {
   "cell_type": "code",
   "execution_count": null,
   "metadata": {},
   "outputs": [],
   "source": []
  },
  {
   "cell_type": "code",
   "execution_count": null,
   "metadata": {},
   "outputs": [],
   "source": [
    "#String Methods"
   ]
  },
  {
   "cell_type": "code",
   "execution_count": 30,
   "metadata": {},
   "outputs": [
    {
     "data": {
      "text/plain": [
       "'hjvshbv v x bsj kdnfjzddkjb'"
      ]
     },
     "execution_count": 30,
     "metadata": {},
     "output_type": "execute_result"
    }
   ],
   "source": [
    "y = 'hjvshbv v x bsj kdnfjzddkjb'\n",
    "y"
   ]
  },
  {
   "cell_type": "code",
   "execution_count": 31,
   "metadata": {},
   "outputs": [
    {
     "data": {
      "text/plain": [
       "\"hjvshbv v 'going' x bsj kdnfjzddkjb\""
      ]
     },
     "execution_count": 31,
     "metadata": {},
     "output_type": "execute_result"
    }
   ],
   "source": [
    "y = \"hjvshbv v 'going' x bsj kdnfjzddkjb\"\n",
    "y"
   ]
  },
  {
   "cell_type": "code",
   "execution_count": 32,
   "metadata": {},
   "outputs": [
    {
     "data": {
      "text/plain": [
       "' Hello,  World! '"
      ]
     },
     "execution_count": 32,
     "metadata": {},
     "output_type": "execute_result"
    }
   ],
   "source": [
    "greeting = \" Hello,  World! \"\n",
    "greeting"
   ]
  },
  {
   "cell_type": "code",
   "execution_count": 33,
   "metadata": {},
   "outputs": [
    {
     "data": {
      "text/plain": [
       "'Hello,  World!'"
      ]
     },
     "execution_count": 33,
     "metadata": {},
     "output_type": "execute_result"
    }
   ],
   "source": [
    "# strip()\n",
    "# The strip() method removes any whitespace from the beginning or the end:\n",
    "greeting.strip()"
   ]
  },
  {
   "cell_type": "code",
   "execution_count": 35,
   "metadata": {},
   "outputs": [
    {
     "data": {
      "text/plain": [
       "'Hello,  World!'"
      ]
     },
     "execution_count": 35,
     "metadata": {},
     "output_type": "execute_result"
    }
   ],
   "source": [
    "result_strip = greeting.strip()\n",
    "result_strip"
   ]
  },
  {
   "cell_type": "code",
   "execution_count": 37,
   "metadata": {},
   "outputs": [],
   "source": [
    "# The lower() method returns the string in lower case:\n",
    "d = \"THIS IS THE man I was talking about. HAVE you MET him as YET?\""
   ]
  },
  {
   "cell_type": "code",
   "execution_count": 38,
   "metadata": {},
   "outputs": [
    {
     "data": {
      "text/plain": [
       "'this is the man i was talking about. have you met him as yet?'"
      ]
     },
     "execution_count": 38,
     "metadata": {},
     "output_type": "execute_result"
    }
   ],
   "source": [
    "d.lower()"
   ]
  },
  {
   "cell_type": "code",
   "execution_count": 42,
   "metadata": {},
   "outputs": [
    {
     "name": "stdout",
     "output_type": "stream",
     "text": [
      "THIS IS THE MAN I WAS TALKING ABOUT. HAVE YOU MET HIM AS YET?\n"
     ]
    }
   ],
   "source": [
    "#upper()\n",
    "# The upper() method returns the string in upper case:\n",
    "d = \"THIS IS THE man I was talking about. HAVE you MET him as YET?\"\n",
    "print(d.upper())\n",
    "\n"
   ]
  },
  {
   "cell_type": "code",
   "execution_count": 43,
   "metadata": {},
   "outputs": [
    {
     "name": "stdout",
     "output_type": "stream",
     "text": [
      "I DON'T WANT TO SLEEP\n"
     ]
    }
   ],
   "source": [
    "e = \"I don't want to sleep\"\n",
    "print(e.upper())"
   ]
  },
  {
   "cell_type": "code",
   "execution_count": 44,
   "metadata": {},
   "outputs": [
    {
     "name": "stdout",
     "output_type": "stream",
     "text": [
      "I DON'T WANT TO SLEEP\n"
     ]
    }
   ],
   "source": [
    "print(\"I don't want to sleep\".upper())"
   ]
  },
  {
   "cell_type": "code",
   "execution_count": null,
   "metadata": {},
   "outputs": [],
   "source": [
    "# replace()\n",
    "# The replace() method replaces a string with another string:\n",
    "# syntax: replace(\"old_value\", \"new_value\")"
   ]
  },
  {
   "cell_type": "code",
   "execution_count": 45,
   "metadata": {},
   "outputs": [
    {
     "data": {
      "text/plain": [
       "'Jello, World!'"
      ]
     },
     "execution_count": 45,
     "metadata": {},
     "output_type": "execute_result"
    }
   ],
   "source": [
    "my_string = \"Hello, World!\"\n",
    "my_string.replace(\"H\", \"J\")"
   ]
  },
  {
   "cell_type": "code",
   "execution_count": 46,
   "metadata": {},
   "outputs": [
    {
     "data": {
      "text/plain": [
       "'Hello, Helsinki!'"
      ]
     },
     "execution_count": 46,
     "metadata": {},
     "output_type": "execute_result"
    }
   ],
   "source": [
    "my_string.replace(\"World\", \"Helsinki\")"
   ]
  },
  {
   "cell_type": "code",
   "execution_count": 49,
   "metadata": {},
   "outputs": [
    {
     "data": {
      "text/plain": [
       "['Hello', ' World!']"
      ]
     },
     "execution_count": 49,
     "metadata": {},
     "output_type": "execute_result"
    }
   ],
   "source": [
    "#split()\n",
    "# The split() method splits the string into substrings if it finds instances of the separator:\n",
    "b = \"Hello, World!\"\n",
    "b.split(\",\")"
   ]
  },
  {
   "cell_type": "code",
   "execution_count": 50,
   "metadata": {},
   "outputs": [
    {
     "data": {
      "text/plain": [
       "['Hello', 'World!']"
      ]
     },
     "execution_count": 50,
     "metadata": {},
     "output_type": "execute_result"
    }
   ],
   "source": [
    "b = \"Hello-World!\"\n",
    "b.split(\"-\")"
   ]
  },
  {
   "cell_type": "code",
   "execution_count": 51,
   "metadata": {},
   "outputs": [
    {
     "data": {
      "text/plain": [
       "['Hello-World!']"
      ]
     },
     "execution_count": 51,
     "metadata": {},
     "output_type": "execute_result"
    }
   ],
   "source": [
    "b = \"Hello-World!\"\n",
    "b.split(\"%\")"
   ]
  },
  {
   "cell_type": "code",
   "execution_count": 52,
   "metadata": {},
   "outputs": [
    {
     "data": {
      "text/plain": [
       "['12', '10', '2019']"
      ]
     },
     "execution_count": 52,
     "metadata": {},
     "output_type": "execute_result"
    }
   ],
   "source": [
    "date = \"12/10/2019\"\n",
    "date.split(\"/\")"
   ]
  },
  {
   "cell_type": "code",
   "execution_count": 53,
   "metadata": {},
   "outputs": [
    {
     "data": {
      "text/plain": [
       "['12/10/2019']"
      ]
     },
     "execution_count": 53,
     "metadata": {},
     "output_type": "execute_result"
    }
   ],
   "source": [
    "date = \"12/10/2019\"\n",
    "date.split(\"#\")"
   ]
  },
  {
   "cell_type": "code",
   "execution_count": 54,
   "metadata": {},
   "outputs": [
    {
     "name": "stdout",
     "output_type": "stream",
     "text": [
      "True\n"
     ]
    }
   ],
   "source": [
    "# Check String\n",
    "# To check if a certain phrase or character is present in a string, we can use the keywords in or not in.\n",
    "\n",
    "txt = \"The rain in Spain stays mainly in the plain\"\n",
    "x = \"ain\" in txt\n",
    "print(x)"
   ]
  },
  {
   "cell_type": "code",
   "execution_count": 55,
   "metadata": {},
   "outputs": [
    {
     "data": {
      "text/plain": [
       "7"
      ]
     },
     "execution_count": 55,
     "metadata": {},
     "output_type": "execute_result"
    }
   ],
   "source": [
    "# String Concatenation\n",
    "# To concatenate, or combine, two strings you can use the + operator.\n",
    "\n",
    "result = 3 + 4 # adding number with number\n",
    "result"
   ]
  },
  {
   "cell_type": "code",
   "execution_count": 61,
   "metadata": {},
   "outputs": [
    {
     "data": {
      "text/plain": [
       "'3hello'"
      ]
     },
     "execution_count": 61,
     "metadata": {},
     "output_type": "execute_result"
    }
   ],
   "source": [
    "# adding number with a string\n",
    "result = \"3\" + \"hello\" \n",
    "result"
   ]
  },
  {
   "cell_type": "code",
   "execution_count": 66,
   "metadata": {},
   "outputs": [
    {
     "name": "stdout",
     "output_type": "stream",
     "text": [
      "HelloWorld\n"
     ]
    }
   ],
   "source": [
    "#Merge variable a with variable b into variable c:\n",
    "\n",
    "a = \"Hello\"\n",
    "b = \"World\"\n",
    "c = a + b\n",
    "\n",
    "print(c)"
   ]
  },
  {
   "cell_type": "code",
   "execution_count": 69,
   "metadata": {},
   "outputs": [
    {
     "data": {
      "text/plain": [
       "'Hello World'"
      ]
     },
     "execution_count": 69,
     "metadata": {},
     "output_type": "execute_result"
    }
   ],
   "source": [
    "d = a + \" \" + b\n",
    "d"
   ]
  },
  {
   "cell_type": "code",
   "execution_count": 70,
   "metadata": {},
   "outputs": [
    {
     "name": "stdout",
     "output_type": "stream",
     "text": [
      "My name is John, I am 36\n"
     ]
    }
   ],
   "source": [
    "# String Format\n",
    "# As we learned in the Python Variables chapter, we cannot combine strings and numbers like this:\n",
    "\n",
    "txt = \"My name is John, I am 36\"\n",
    "print(txt)"
   ]
  },
  {
   "cell_type": "code",
   "execution_count": 71,
   "metadata": {},
   "outputs": [
    {
     "ename": "TypeError",
     "evalue": "must be str, not int",
     "output_type": "error",
     "traceback": [
      "\u001b[1;31m---------------------------------------------------------------------------\u001b[0m",
      "\u001b[1;31mTypeError\u001b[0m                                 Traceback (most recent call last)",
      "\u001b[1;32m<ipython-input-71-4d1b227cff41>\u001b[0m in \u001b[0;36m<module>\u001b[1;34m()\u001b[0m\n\u001b[0;32m      1\u001b[0m \u001b[0mage\u001b[0m \u001b[1;33m=\u001b[0m \u001b[1;36m36\u001b[0m\u001b[1;33m\u001b[0m\u001b[0m\n\u001b[1;32m----> 2\u001b[1;33m \u001b[0mtxt\u001b[0m \u001b[1;33m=\u001b[0m \u001b[1;34m\"My name is John, I am \"\u001b[0m \u001b[1;33m+\u001b[0m \u001b[0mage\u001b[0m\u001b[1;33m\u001b[0m\u001b[0m\n\u001b[0m\u001b[0;32m      3\u001b[0m \u001b[0mprint\u001b[0m\u001b[1;33m(\u001b[0m\u001b[0mtxt\u001b[0m\u001b[1;33m)\u001b[0m\u001b[1;33m\u001b[0m\u001b[0m\n",
      "\u001b[1;31mTypeError\u001b[0m: must be str, not int"
     ]
    }
   ],
   "source": [
    "age = 36\n",
    "txt = \"My name is John, I am \" + age\n",
    "print(txt)\n",
    "\n",
    "# error is expected because you cannot directly add a string to an integer"
   ]
  },
  {
   "cell_type": "markdown",
   "metadata": {},
   "source": [
    "# format() "
   ]
  },
  {
   "cell_type": "code",
   "execution_count": 77,
   "metadata": {},
   "outputs": [],
   "source": [
    "# format() \n",
    "# But we can combine strings and numbers by using the format() method!\n",
    "# The format() method takes the passed arguments, formats them, and places them in the string where the placeholders {} are:"
   ]
  },
  {
   "cell_type": "code",
   "execution_count": 72,
   "metadata": {},
   "outputs": [
    {
     "name": "stdout",
     "output_type": "stream",
     "text": [
      "My name is John, and I am 36\n"
     ]
    }
   ],
   "source": [
    "# Use the format() method to insert numbers into strings:\n",
    "age = 36\n",
    "txt = \"My name is John, and I am {}\"\n",
    "print(txt.format(age))"
   ]
  },
  {
   "cell_type": "code",
   "execution_count": 73,
   "metadata": {},
   "outputs": [
    {
     "name": "stdout",
     "output_type": "stream",
     "text": [
      "I want {} pieces of item {} for {} dollars.\n"
     ]
    }
   ],
   "source": [
    "# The format() method takes unlimited number of arguments, and are placed into the respective placeholders:\n",
    "# {} placeholder .... \n",
    "\n",
    "myorder = \"I want {} pieces of item {} for {} dollars.\"\n",
    "print(myorder)"
   ]
  },
  {
   "cell_type": "code",
   "execution_count": 74,
   "metadata": {},
   "outputs": [
    {
     "name": "stdout",
     "output_type": "stream",
     "text": [
      "I want 3 pieces of item 567 for 49.95 dollars.\n"
     ]
    }
   ],
   "source": [
    "myorder = \"I want {} pieces of item {} for {} dollars.\"\n",
    "\n",
    "quantity = 3\n",
    "itemno = 567\n",
    "price = 49.95\n",
    "\n",
    "print(myorder.format(quantity, itemno, price))"
   ]
  },
  {
   "cell_type": "code",
   "execution_count": 75,
   "metadata": {},
   "outputs": [
    {
     "name": "stdout",
     "output_type": "stream",
     "text": [
      "I want 567 pieces of item 49.95 for 3 dollars.\n"
     ]
    }
   ],
   "source": [
    "myorder2 = \"I want {} pieces of item {} for {} dollars.\"\n",
    "\n",
    "quantity = 3\n",
    "itemno = 567\n",
    "price = 49.95\n",
    "\n",
    "print(myorder2.format(itemno, price, quantity))"
   ]
  },
  {
   "cell_type": "code",
   "execution_count": 76,
   "metadata": {},
   "outputs": [
    {
     "ename": "IndexError",
     "evalue": "tuple index out of range",
     "output_type": "error",
     "traceback": [
      "\u001b[1;31m---------------------------------------------------------------------------\u001b[0m",
      "\u001b[1;31mIndexError\u001b[0m                                Traceback (most recent call last)",
      "\u001b[1;32m<ipython-input-76-e6942b79733b>\u001b[0m in \u001b[0;36m<module>\u001b[1;34m()\u001b[0m\n\u001b[0;32m      5\u001b[0m \u001b[0mprice\u001b[0m \u001b[1;33m=\u001b[0m \u001b[1;36m49.95\u001b[0m\u001b[1;33m\u001b[0m\u001b[0m\n\u001b[0;32m      6\u001b[0m \u001b[1;33m\u001b[0m\u001b[0m\n\u001b[1;32m----> 7\u001b[1;33m \u001b[0mprint\u001b[0m\u001b[1;33m(\u001b[0m\u001b[0mmyorder3\u001b[0m\u001b[1;33m.\u001b[0m\u001b[0mformat\u001b[0m\u001b[1;33m(\u001b[0m\u001b[0mitemno\u001b[0m\u001b[1;33m,\u001b[0m \u001b[0mprice\u001b[0m\u001b[1;33m)\u001b[0m\u001b[1;33m)\u001b[0m\u001b[1;33m\u001b[0m\u001b[0m\n\u001b[0m",
      "\u001b[1;31mIndexError\u001b[0m: tuple index out of range"
     ]
    }
   ],
   "source": [
    "myorder3 = \"I want {} pieces of item {} for {} dollars.\"\n",
    "\n",
    "quantity = 3\n",
    "itemno = 567\n",
    "price = 49.95\n",
    "\n",
    "print(myorder3.format(itemno, price))\n",
    "\n",
    "# error is expected because the number of placeholders must be equal to the number of arguments supplied"
   ]
  },
  {
   "cell_type": "code",
   "execution_count": null,
   "metadata": {},
   "outputs": [],
   "source": [
    "# You can use index numbers {0} to be sure the arguments are placed in the correct placeholders:"
   ]
  },
  {
   "cell_type": "code",
   "execution_count": 78,
   "metadata": {},
   "outputs": [
    {
     "name": "stdout",
     "output_type": "stream",
     "text": [
      "I want to pay 49.95 dollars for 3 pieces of item 567.\n"
     ]
    }
   ],
   "source": [
    "quantity = 3\n",
    "itemno = 567\n",
    "price = 49.95\n",
    "myorder = \"I want to pay {2} dollars for {0} pieces of item {1}.\"\n",
    "\n",
    "# the position of the arguments i.e. format(quantity {0}, itemno {1}, price {2})\n",
    "print(myorder.format(quantity, itemno, price))"
   ]
  },
  {
   "cell_type": "code",
   "execution_count": 79,
   "metadata": {},
   "outputs": [
    {
     "name": "stdout",
     "output_type": "stream",
     "text": [
      "I want to pay 3 dollars for 567 pieces of item 49.95.\n"
     ]
    }
   ],
   "source": [
    "quantity = 3 \n",
    "itemno = 567\n",
    "price = 49.95\n",
    "myorder = \"I want to pay {2} dollars for {0} pieces of item {1}.\"\n",
    "\n",
    "# the position of the arguments i.e. format(itemno {0}, price {1}, quantity {2})\n",
    "print(myorder.format(itemno, price, quantity))"
   ]
  },
  {
   "cell_type": "code",
   "execution_count": null,
   "metadata": {},
   "outputs": [],
   "source": [
    "quantity = 3 \n",
    "itemno = 567\n",
    "price = 49.95\n",
    "myorder = \"I want to pay {1} dollars for {2} pieces of item {0}.\"\n",
    "\n",
    "# the position of the arguments i.e. format(itemno {0}, price {1}, quantity {2})\n",
    "print(myorder.format(itemno, price, quantity))"
   ]
  },
  {
   "cell_type": "code",
   "execution_count": 80,
   "metadata": {},
   "outputs": [
    {
     "name": "stdout",
     "output_type": "stream",
     "text": [
      "I want to pay 567 dollars for 49.95 pieces of item 3.\n"
     ]
    }
   ],
   "source": [
    "quantity = 3 \n",
    "itemno = 567\n",
    "price = 49.95\n",
    "myorder = \"I want to pay {1} dollars for {2} pieces of item {0}.\"\n",
    "\n",
    "# the position of the arguments i.e. format(quantity {0}, itemno {1}, price {2})\n",
    "print(myorder.format(quantity, itemno, price))"
   ]
  },
  {
   "cell_type": "code",
   "execution_count": null,
   "metadata": {},
   "outputs": [],
   "source": []
  },
  {
   "cell_type": "code",
   "execution_count": null,
   "metadata": {},
   "outputs": [],
   "source": []
  },
  {
   "cell_type": "code",
   "execution_count": null,
   "metadata": {},
   "outputs": [],
   "source": []
  },
  {
   "cell_type": "code",
   "execution_count": null,
   "metadata": {},
   "outputs": [],
   "source": []
  }
 ],
 "metadata": {
  "kernelspec": {
   "display_name": "Python 3",
   "language": "python",
   "name": "python3"
  },
  "language_info": {
   "codemirror_mode": {
    "name": "ipython",
    "version": 3
   },
   "file_extension": ".py",
   "mimetype": "text/x-python",
   "name": "python",
   "nbconvert_exporter": "python",
   "pygments_lexer": "ipython3",
   "version": "3.6.5"
  }
 },
 "nbformat": 4,
 "nbformat_minor": 2
}
